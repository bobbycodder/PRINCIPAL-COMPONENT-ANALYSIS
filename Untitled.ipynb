{
 "cells": [
  {
   "cell_type": "markdown",
   "id": "cccb2c88",
   "metadata": {},
   "source": [
    "# PRINCIPAL COMPONENT ANALYSIS"
   ]
  },
  {
   "cell_type": "markdown",
   "id": "96f02f4d",
   "metadata": {},
   "source": [
    "## IMPORTING LIBRARIES"
   ]
  },
  {
   "cell_type": "code",
   "execution_count": 89,
   "id": "4e8af79b",
   "metadata": {},
   "outputs": [],
   "source": [
    "import numpy as np\n",
    "import pandas as pd\n",
    "import seaborn as sns \n",
    "import matplotlib.pyplot as plt\n",
    "%matplotlib inline"
   ]
  },
  {
   "cell_type": "markdown",
   "id": "f08e3019",
   "metadata": {},
   "source": [
    "## LOADING DATASET"
   ]
  },
  {
   "cell_type": "code",
   "execution_count": 90,
   "id": "17b0e37d",
   "metadata": {
    "scrolled": true
   },
   "outputs": [
    {
     "data": {
      "text/html": [
       "<div>\n",
       "<style scoped>\n",
       "    .dataframe tbody tr th:only-of-type {\n",
       "        vertical-align: middle;\n",
       "    }\n",
       "\n",
       "    .dataframe tbody tr th {\n",
       "        vertical-align: top;\n",
       "    }\n",
       "\n",
       "    .dataframe thead th {\n",
       "        text-align: right;\n",
       "    }\n",
       "</style>\n",
       "<table border=\"1\" class=\"dataframe\">\n",
       "  <thead>\n",
       "    <tr style=\"text-align: right;\">\n",
       "      <th></th>\n",
       "      <th>number_people</th>\n",
       "      <th>date</th>\n",
       "      <th>timestamp</th>\n",
       "      <th>day_of_week</th>\n",
       "      <th>is_weekend</th>\n",
       "      <th>is_holiday</th>\n",
       "      <th>temperature</th>\n",
       "      <th>is_start_of_semester</th>\n",
       "      <th>is_during_semester</th>\n",
       "      <th>month</th>\n",
       "      <th>hour</th>\n",
       "    </tr>\n",
       "  </thead>\n",
       "  <tbody>\n",
       "    <tr>\n",
       "      <th>0</th>\n",
       "      <td>37</td>\n",
       "      <td>2015-08-14 17:00:11-07:00</td>\n",
       "      <td>61211</td>\n",
       "      <td>4</td>\n",
       "      <td>0</td>\n",
       "      <td>0</td>\n",
       "      <td>71.76</td>\n",
       "      <td>0</td>\n",
       "      <td>0</td>\n",
       "      <td>8</td>\n",
       "      <td>17</td>\n",
       "    </tr>\n",
       "    <tr>\n",
       "      <th>1</th>\n",
       "      <td>45</td>\n",
       "      <td>2015-08-14 17:20:14-07:00</td>\n",
       "      <td>62414</td>\n",
       "      <td>4</td>\n",
       "      <td>0</td>\n",
       "      <td>0</td>\n",
       "      <td>71.76</td>\n",
       "      <td>0</td>\n",
       "      <td>0</td>\n",
       "      <td>8</td>\n",
       "      <td>17</td>\n",
       "    </tr>\n",
       "    <tr>\n",
       "      <th>2</th>\n",
       "      <td>40</td>\n",
       "      <td>2015-08-14 17:30:15-07:00</td>\n",
       "      <td>63015</td>\n",
       "      <td>4</td>\n",
       "      <td>0</td>\n",
       "      <td>0</td>\n",
       "      <td>71.76</td>\n",
       "      <td>0</td>\n",
       "      <td>0</td>\n",
       "      <td>8</td>\n",
       "      <td>17</td>\n",
       "    </tr>\n",
       "    <tr>\n",
       "      <th>3</th>\n",
       "      <td>44</td>\n",
       "      <td>2015-08-14 17:40:16-07:00</td>\n",
       "      <td>63616</td>\n",
       "      <td>4</td>\n",
       "      <td>0</td>\n",
       "      <td>0</td>\n",
       "      <td>71.76</td>\n",
       "      <td>0</td>\n",
       "      <td>0</td>\n",
       "      <td>8</td>\n",
       "      <td>17</td>\n",
       "    </tr>\n",
       "    <tr>\n",
       "      <th>4</th>\n",
       "      <td>45</td>\n",
       "      <td>2015-08-14 17:50:17-07:00</td>\n",
       "      <td>64217</td>\n",
       "      <td>4</td>\n",
       "      <td>0</td>\n",
       "      <td>0</td>\n",
       "      <td>71.76</td>\n",
       "      <td>0</td>\n",
       "      <td>0</td>\n",
       "      <td>8</td>\n",
       "      <td>17</td>\n",
       "    </tr>\n",
       "  </tbody>\n",
       "</table>\n",
       "</div>"
      ],
      "text/plain": [
       "   number_people                       date  timestamp  day_of_week  \\\n",
       "0             37  2015-08-14 17:00:11-07:00      61211            4   \n",
       "1             45  2015-08-14 17:20:14-07:00      62414            4   \n",
       "2             40  2015-08-14 17:30:15-07:00      63015            4   \n",
       "3             44  2015-08-14 17:40:16-07:00      63616            4   \n",
       "4             45  2015-08-14 17:50:17-07:00      64217            4   \n",
       "\n",
       "   is_weekend  is_holiday  temperature  is_start_of_semester  \\\n",
       "0           0           0        71.76                     0   \n",
       "1           0           0        71.76                     0   \n",
       "2           0           0        71.76                     0   \n",
       "3           0           0        71.76                     0   \n",
       "4           0           0        71.76                     0   \n",
       "\n",
       "   is_during_semester  month  hour  \n",
       "0                   0      8    17  \n",
       "1                   0      8    17  \n",
       "2                   0      8    17  \n",
       "3                   0      8    17  \n",
       "4                   0      8    17  "
      ]
     },
     "execution_count": 90,
     "metadata": {},
     "output_type": "execute_result"
    }
   ],
   "source": [
    "data = pd.read_csv(\"data.csv\")\n",
    "data.head()"
   ]
  },
  {
   "cell_type": "markdown",
   "id": "c77f0c79",
   "metadata": {},
   "source": [
    "## DATA INSIGHTS"
   ]
  },
  {
   "cell_type": "code",
   "execution_count": 91,
   "id": "72ce54b6",
   "metadata": {
    "scrolled": true
   },
   "outputs": [
    {
     "data": {
      "text/plain": [
       "(62184, 11)"
      ]
     },
     "execution_count": 91,
     "metadata": {},
     "output_type": "execute_result"
    }
   ],
   "source": [
    "data.shape"
   ]
  },
  {
   "cell_type": "code",
   "execution_count": 92,
   "id": "4c02907c",
   "metadata": {},
   "outputs": [
    {
     "data": {
      "text/plain": [
       "Index(['number_people', 'date', 'timestamp', 'day_of_week', 'is_weekend',\n",
       "       'is_holiday', 'temperature', 'is_start_of_semester',\n",
       "       'is_during_semester', 'month', 'hour'],\n",
       "      dtype='object')"
      ]
     },
     "execution_count": 92,
     "metadata": {},
     "output_type": "execute_result"
    }
   ],
   "source": [
    "data.columns"
   ]
  },
  {
   "cell_type": "code",
   "execution_count": 93,
   "id": "02c3b2bc",
   "metadata": {},
   "outputs": [
    {
     "name": "stdout",
     "output_type": "stream",
     "text": [
      "<class 'pandas.core.frame.DataFrame'>\n",
      "RangeIndex: 62184 entries, 0 to 62183\n",
      "Data columns (total 11 columns):\n",
      " #   Column                Non-Null Count  Dtype  \n",
      "---  ------                --------------  -----  \n",
      " 0   number_people         62184 non-null  int64  \n",
      " 1   date                  62184 non-null  object \n",
      " 2   timestamp             62184 non-null  int64  \n",
      " 3   day_of_week           62184 non-null  int64  \n",
      " 4   is_weekend            62184 non-null  int64  \n",
      " 5   is_holiday            62184 non-null  int64  \n",
      " 6   temperature           62184 non-null  float64\n",
      " 7   is_start_of_semester  62184 non-null  int64  \n",
      " 8   is_during_semester    62184 non-null  int64  \n",
      " 9   month                 62184 non-null  int64  \n",
      " 10  hour                  62184 non-null  int64  \n",
      "dtypes: float64(1), int64(9), object(1)\n",
      "memory usage: 5.2+ MB\n"
     ]
    }
   ],
   "source": [
    "data.info()"
   ]
  },
  {
   "cell_type": "code",
   "execution_count": 94,
   "id": "bfc2ba5f",
   "metadata": {},
   "outputs": [
    {
     "data": {
      "text/html": [
       "<div>\n",
       "<style scoped>\n",
       "    .dataframe tbody tr th:only-of-type {\n",
       "        vertical-align: middle;\n",
       "    }\n",
       "\n",
       "    .dataframe tbody tr th {\n",
       "        vertical-align: top;\n",
       "    }\n",
       "\n",
       "    .dataframe thead th {\n",
       "        text-align: right;\n",
       "    }\n",
       "</style>\n",
       "<table border=\"1\" class=\"dataframe\">\n",
       "  <thead>\n",
       "    <tr style=\"text-align: right;\">\n",
       "      <th></th>\n",
       "      <th>number_people</th>\n",
       "      <th>timestamp</th>\n",
       "      <th>day_of_week</th>\n",
       "      <th>is_weekend</th>\n",
       "      <th>is_holiday</th>\n",
       "      <th>temperature</th>\n",
       "      <th>is_start_of_semester</th>\n",
       "      <th>is_during_semester</th>\n",
       "      <th>month</th>\n",
       "      <th>hour</th>\n",
       "    </tr>\n",
       "  </thead>\n",
       "  <tbody>\n",
       "    <tr>\n",
       "      <th>count</th>\n",
       "      <td>62184.000000</td>\n",
       "      <td>62184.000000</td>\n",
       "      <td>62184.000000</td>\n",
       "      <td>62184.000000</td>\n",
       "      <td>62184.000000</td>\n",
       "      <td>62184.000000</td>\n",
       "      <td>62184.000000</td>\n",
       "      <td>62184.000000</td>\n",
       "      <td>62184.000000</td>\n",
       "      <td>62184.000000</td>\n",
       "    </tr>\n",
       "    <tr>\n",
       "      <th>mean</th>\n",
       "      <td>29.072543</td>\n",
       "      <td>45799.437958</td>\n",
       "      <td>2.982504</td>\n",
       "      <td>0.282870</td>\n",
       "      <td>0.002573</td>\n",
       "      <td>58.557108</td>\n",
       "      <td>0.078831</td>\n",
       "      <td>0.660218</td>\n",
       "      <td>7.439824</td>\n",
       "      <td>12.236460</td>\n",
       "    </tr>\n",
       "    <tr>\n",
       "      <th>std</th>\n",
       "      <td>22.689026</td>\n",
       "      <td>24211.275891</td>\n",
       "      <td>1.996825</td>\n",
       "      <td>0.450398</td>\n",
       "      <td>0.050660</td>\n",
       "      <td>6.316396</td>\n",
       "      <td>0.269476</td>\n",
       "      <td>0.473639</td>\n",
       "      <td>3.445069</td>\n",
       "      <td>6.717631</td>\n",
       "    </tr>\n",
       "    <tr>\n",
       "      <th>min</th>\n",
       "      <td>0.000000</td>\n",
       "      <td>0.000000</td>\n",
       "      <td>0.000000</td>\n",
       "      <td>0.000000</td>\n",
       "      <td>0.000000</td>\n",
       "      <td>38.140000</td>\n",
       "      <td>0.000000</td>\n",
       "      <td>0.000000</td>\n",
       "      <td>1.000000</td>\n",
       "      <td>0.000000</td>\n",
       "    </tr>\n",
       "    <tr>\n",
       "      <th>25%</th>\n",
       "      <td>9.000000</td>\n",
       "      <td>26624.000000</td>\n",
       "      <td>1.000000</td>\n",
       "      <td>0.000000</td>\n",
       "      <td>0.000000</td>\n",
       "      <td>55.000000</td>\n",
       "      <td>0.000000</td>\n",
       "      <td>0.000000</td>\n",
       "      <td>5.000000</td>\n",
       "      <td>7.000000</td>\n",
       "    </tr>\n",
       "    <tr>\n",
       "      <th>50%</th>\n",
       "      <td>28.000000</td>\n",
       "      <td>46522.500000</td>\n",
       "      <td>3.000000</td>\n",
       "      <td>0.000000</td>\n",
       "      <td>0.000000</td>\n",
       "      <td>58.340000</td>\n",
       "      <td>0.000000</td>\n",
       "      <td>1.000000</td>\n",
       "      <td>8.000000</td>\n",
       "      <td>12.000000</td>\n",
       "    </tr>\n",
       "    <tr>\n",
       "      <th>75%</th>\n",
       "      <td>43.000000</td>\n",
       "      <td>66612.000000</td>\n",
       "      <td>5.000000</td>\n",
       "      <td>1.000000</td>\n",
       "      <td>0.000000</td>\n",
       "      <td>62.280000</td>\n",
       "      <td>0.000000</td>\n",
       "      <td>1.000000</td>\n",
       "      <td>10.000000</td>\n",
       "      <td>18.000000</td>\n",
       "    </tr>\n",
       "    <tr>\n",
       "      <th>max</th>\n",
       "      <td>145.000000</td>\n",
       "      <td>86399.000000</td>\n",
       "      <td>6.000000</td>\n",
       "      <td>1.000000</td>\n",
       "      <td>1.000000</td>\n",
       "      <td>87.170000</td>\n",
       "      <td>1.000000</td>\n",
       "      <td>1.000000</td>\n",
       "      <td>12.000000</td>\n",
       "      <td>23.000000</td>\n",
       "    </tr>\n",
       "  </tbody>\n",
       "</table>\n",
       "</div>"
      ],
      "text/plain": [
       "       number_people     timestamp   day_of_week    is_weekend    is_holiday  \\\n",
       "count   62184.000000  62184.000000  62184.000000  62184.000000  62184.000000   \n",
       "mean       29.072543  45799.437958      2.982504      0.282870      0.002573   \n",
       "std        22.689026  24211.275891      1.996825      0.450398      0.050660   \n",
       "min         0.000000      0.000000      0.000000      0.000000      0.000000   \n",
       "25%         9.000000  26624.000000      1.000000      0.000000      0.000000   \n",
       "50%        28.000000  46522.500000      3.000000      0.000000      0.000000   \n",
       "75%        43.000000  66612.000000      5.000000      1.000000      0.000000   \n",
       "max       145.000000  86399.000000      6.000000      1.000000      1.000000   \n",
       "\n",
       "        temperature  is_start_of_semester  is_during_semester         month  \\\n",
       "count  62184.000000          62184.000000        62184.000000  62184.000000   \n",
       "mean      58.557108              0.078831            0.660218      7.439824   \n",
       "std        6.316396              0.269476            0.473639      3.445069   \n",
       "min       38.140000              0.000000            0.000000      1.000000   \n",
       "25%       55.000000              0.000000            0.000000      5.000000   \n",
       "50%       58.340000              0.000000            1.000000      8.000000   \n",
       "75%       62.280000              0.000000            1.000000     10.000000   \n",
       "max       87.170000              1.000000            1.000000     12.000000   \n",
       "\n",
       "               hour  \n",
       "count  62184.000000  \n",
       "mean      12.236460  \n",
       "std        6.717631  \n",
       "min        0.000000  \n",
       "25%        7.000000  \n",
       "50%       12.000000  \n",
       "75%       18.000000  \n",
       "max       23.000000  "
      ]
     },
     "execution_count": 94,
     "metadata": {},
     "output_type": "execute_result"
    }
   ],
   "source": [
    "data.describe()"
   ]
  },
  {
   "cell_type": "markdown",
   "id": "e0bdf49e",
   "metadata": {},
   "source": [
    "## NULL VALUES"
   ]
  },
  {
   "cell_type": "code",
   "execution_count": 95,
   "id": "87a90a96",
   "metadata": {
    "scrolled": true
   },
   "outputs": [
    {
     "data": {
      "text/plain": [
       "number_people           0\n",
       "date                    0\n",
       "timestamp               0\n",
       "day_of_week             0\n",
       "is_weekend              0\n",
       "is_holiday              0\n",
       "temperature             0\n",
       "is_start_of_semester    0\n",
       "is_during_semester      0\n",
       "month                   0\n",
       "hour                    0\n",
       "dtype: int64"
      ]
     },
     "execution_count": 95,
     "metadata": {},
     "output_type": "execute_result"
    }
   ],
   "source": [
    "data.isnull().sum()"
   ]
  },
  {
   "cell_type": "code",
   "execution_count": 96,
   "id": "80db4157",
   "metadata": {},
   "outputs": [
    {
     "data": {
      "text/html": [
       "<div>\n",
       "<style scoped>\n",
       "    .dataframe tbody tr th:only-of-type {\n",
       "        vertical-align: middle;\n",
       "    }\n",
       "\n",
       "    .dataframe tbody tr th {\n",
       "        vertical-align: top;\n",
       "    }\n",
       "\n",
       "    .dataframe thead th {\n",
       "        text-align: right;\n",
       "    }\n",
       "</style>\n",
       "<table border=\"1\" class=\"dataframe\">\n",
       "  <thead>\n",
       "    <tr style=\"text-align: right;\">\n",
       "      <th></th>\n",
       "      <th>number_people</th>\n",
       "      <th>timestamp</th>\n",
       "      <th>day_of_week</th>\n",
       "      <th>is_weekend</th>\n",
       "      <th>is_holiday</th>\n",
       "      <th>temperature</th>\n",
       "      <th>is_start_of_semester</th>\n",
       "      <th>is_during_semester</th>\n",
       "      <th>month</th>\n",
       "      <th>hour</th>\n",
       "    </tr>\n",
       "  </thead>\n",
       "  <tbody>\n",
       "    <tr>\n",
       "      <th>number_people</th>\n",
       "      <td>1.000000</td>\n",
       "      <td>0.550218</td>\n",
       "      <td>-0.162062</td>\n",
       "      <td>-0.173958</td>\n",
       "      <td>-0.048249</td>\n",
       "      <td>0.373327</td>\n",
       "      <td>0.182683</td>\n",
       "      <td>0.335350</td>\n",
       "      <td>-0.097854</td>\n",
       "      <td>0.552049</td>\n",
       "    </tr>\n",
       "    <tr>\n",
       "      <th>timestamp</th>\n",
       "      <td>0.550218</td>\n",
       "      <td>1.000000</td>\n",
       "      <td>-0.001793</td>\n",
       "      <td>-0.000509</td>\n",
       "      <td>0.002851</td>\n",
       "      <td>0.184849</td>\n",
       "      <td>0.009551</td>\n",
       "      <td>0.044676</td>\n",
       "      <td>-0.023221</td>\n",
       "      <td>0.999077</td>\n",
       "    </tr>\n",
       "    <tr>\n",
       "      <th>day_of_week</th>\n",
       "      <td>-0.162062</td>\n",
       "      <td>-0.001793</td>\n",
       "      <td>1.000000</td>\n",
       "      <td>0.791338</td>\n",
       "      <td>-0.075862</td>\n",
       "      <td>0.011169</td>\n",
       "      <td>-0.011782</td>\n",
       "      <td>-0.004824</td>\n",
       "      <td>0.015559</td>\n",
       "      <td>-0.001914</td>\n",
       "    </tr>\n",
       "    <tr>\n",
       "      <th>is_weekend</th>\n",
       "      <td>-0.173958</td>\n",
       "      <td>-0.000509</td>\n",
       "      <td>0.791338</td>\n",
       "      <td>1.000000</td>\n",
       "      <td>-0.031899</td>\n",
       "      <td>0.020673</td>\n",
       "      <td>-0.016646</td>\n",
       "      <td>-0.036127</td>\n",
       "      <td>0.008462</td>\n",
       "      <td>-0.000517</td>\n",
       "    </tr>\n",
       "    <tr>\n",
       "      <th>is_holiday</th>\n",
       "      <td>-0.048249</td>\n",
       "      <td>0.002851</td>\n",
       "      <td>-0.075862</td>\n",
       "      <td>-0.031899</td>\n",
       "      <td>1.000000</td>\n",
       "      <td>-0.088527</td>\n",
       "      <td>-0.014858</td>\n",
       "      <td>-0.070798</td>\n",
       "      <td>-0.094942</td>\n",
       "      <td>0.002843</td>\n",
       "    </tr>\n",
       "    <tr>\n",
       "      <th>temperature</th>\n",
       "      <td>0.373327</td>\n",
       "      <td>0.184849</td>\n",
       "      <td>0.011169</td>\n",
       "      <td>0.020673</td>\n",
       "      <td>-0.088527</td>\n",
       "      <td>1.000000</td>\n",
       "      <td>0.093242</td>\n",
       "      <td>0.152476</td>\n",
       "      <td>0.063125</td>\n",
       "      <td>0.185121</td>\n",
       "    </tr>\n",
       "    <tr>\n",
       "      <th>is_start_of_semester</th>\n",
       "      <td>0.182683</td>\n",
       "      <td>0.009551</td>\n",
       "      <td>-0.011782</td>\n",
       "      <td>-0.016646</td>\n",
       "      <td>-0.014858</td>\n",
       "      <td>0.093242</td>\n",
       "      <td>1.000000</td>\n",
       "      <td>0.209862</td>\n",
       "      <td>-0.137160</td>\n",
       "      <td>0.010091</td>\n",
       "    </tr>\n",
       "    <tr>\n",
       "      <th>is_during_semester</th>\n",
       "      <td>0.335350</td>\n",
       "      <td>0.044676</td>\n",
       "      <td>-0.004824</td>\n",
       "      <td>-0.036127</td>\n",
       "      <td>-0.070798</td>\n",
       "      <td>0.152476</td>\n",
       "      <td>0.209862</td>\n",
       "      <td>1.000000</td>\n",
       "      <td>0.096556</td>\n",
       "      <td>0.045581</td>\n",
       "    </tr>\n",
       "    <tr>\n",
       "      <th>month</th>\n",
       "      <td>-0.097854</td>\n",
       "      <td>-0.023221</td>\n",
       "      <td>0.015559</td>\n",
       "      <td>0.008462</td>\n",
       "      <td>-0.094942</td>\n",
       "      <td>0.063125</td>\n",
       "      <td>-0.137160</td>\n",
       "      <td>0.096556</td>\n",
       "      <td>1.000000</td>\n",
       "      <td>-0.023624</td>\n",
       "    </tr>\n",
       "    <tr>\n",
       "      <th>hour</th>\n",
       "      <td>0.552049</td>\n",
       "      <td>0.999077</td>\n",
       "      <td>-0.001914</td>\n",
       "      <td>-0.000517</td>\n",
       "      <td>0.002843</td>\n",
       "      <td>0.185121</td>\n",
       "      <td>0.010091</td>\n",
       "      <td>0.045581</td>\n",
       "      <td>-0.023624</td>\n",
       "      <td>1.000000</td>\n",
       "    </tr>\n",
       "  </tbody>\n",
       "</table>\n",
       "</div>"
      ],
      "text/plain": [
       "                      number_people  timestamp  day_of_week  is_weekend  \\\n",
       "number_people              1.000000   0.550218    -0.162062   -0.173958   \n",
       "timestamp                  0.550218   1.000000    -0.001793   -0.000509   \n",
       "day_of_week               -0.162062  -0.001793     1.000000    0.791338   \n",
       "is_weekend                -0.173958  -0.000509     0.791338    1.000000   \n",
       "is_holiday                -0.048249   0.002851    -0.075862   -0.031899   \n",
       "temperature                0.373327   0.184849     0.011169    0.020673   \n",
       "is_start_of_semester       0.182683   0.009551    -0.011782   -0.016646   \n",
       "is_during_semester         0.335350   0.044676    -0.004824   -0.036127   \n",
       "month                     -0.097854  -0.023221     0.015559    0.008462   \n",
       "hour                       0.552049   0.999077    -0.001914   -0.000517   \n",
       "\n",
       "                      is_holiday  temperature  is_start_of_semester  \\\n",
       "number_people          -0.048249     0.373327              0.182683   \n",
       "timestamp               0.002851     0.184849              0.009551   \n",
       "day_of_week            -0.075862     0.011169             -0.011782   \n",
       "is_weekend             -0.031899     0.020673             -0.016646   \n",
       "is_holiday              1.000000    -0.088527             -0.014858   \n",
       "temperature            -0.088527     1.000000              0.093242   \n",
       "is_start_of_semester   -0.014858     0.093242              1.000000   \n",
       "is_during_semester     -0.070798     0.152476              0.209862   \n",
       "month                  -0.094942     0.063125             -0.137160   \n",
       "hour                    0.002843     0.185121              0.010091   \n",
       "\n",
       "                      is_during_semester     month      hour  \n",
       "number_people                   0.335350 -0.097854  0.552049  \n",
       "timestamp                       0.044676 -0.023221  0.999077  \n",
       "day_of_week                    -0.004824  0.015559 -0.001914  \n",
       "is_weekend                     -0.036127  0.008462 -0.000517  \n",
       "is_holiday                     -0.070798 -0.094942  0.002843  \n",
       "temperature                     0.152476  0.063125  0.185121  \n",
       "is_start_of_semester            0.209862 -0.137160  0.010091  \n",
       "is_during_semester              1.000000  0.096556  0.045581  \n",
       "month                           0.096556  1.000000 -0.023624  \n",
       "hour                            0.045581 -0.023624  1.000000  "
      ]
     },
     "execution_count": 96,
     "metadata": {},
     "output_type": "execute_result"
    }
   ],
   "source": [
    "data.corr()"
   ]
  },
  {
   "cell_type": "code",
   "execution_count": 97,
   "id": "349ca437",
   "metadata": {
    "scrolled": false
   },
   "outputs": [
    {
     "name": "stdout",
     "output_type": "stream",
     "text": [
      "number_people\n",
      "0      8775\n",
      "1      3029\n",
      "29     1229\n",
      "31     1215\n",
      "27     1192\n",
      "       ... \n",
      "125       1\n",
      "123       1\n",
      "134       1\n",
      "138       1\n",
      "121       1\n",
      "Name: number_people, Length: 128, dtype: int64\n",
      "date\n",
      "2016-02-13 11:30:12-08:00    1\n",
      "2016-05-28 21:54:15-07:00    1\n",
      "2016-08-21 22:36:42-07:00    1\n",
      "2016-03-21 15:00:15-07:00    1\n",
      "2016-11-19 14:06:38-08:00    1\n",
      "                            ..\n",
      "2016-11-20 00:48:42-08:00    1\n",
      "2016-12-03 03:00:54-08:00    1\n",
      "2016-01-18 19:40:16-08:00    1\n",
      "2016-11-10 22:26:18-08:00    1\n",
      "2016-05-13 15:30:32-07:00    1\n",
      "Name: date, Length: 62184, dtype: int64\n",
      "timestamp\n",
      "51612    93\n",
      "84612    88\n",
      "69612    88\n",
      "19812    85\n",
      "62412    85\n",
      "         ..\n",
      "57776     1\n",
      "72111     1\n",
      "67617     1\n",
      "428       1\n",
      "2047      1\n",
      "Name: timestamp, Length: 31321, dtype: int64\n",
      "day_of_week\n",
      "1    9130\n",
      "2    8981\n",
      "3    8926\n",
      "0    8838\n",
      "5    8822\n",
      "6    8768\n",
      "4    8719\n",
      "Name: day_of_week, dtype: int64\n",
      "is_weekend\n",
      "0    44594\n",
      "1    17590\n",
      "Name: is_weekend, dtype: int64\n",
      "is_holiday\n",
      "0    62024\n",
      "1      160\n",
      "Name: is_holiday, dtype: int64\n",
      "temperature\n",
      "58.00    823\n",
      "56.00    801\n",
      "62.00    766\n",
      "60.00    697\n",
      "57.00    637\n",
      "        ... \n",
      "73.25      1\n",
      "72.53      1\n",
      "68.34      1\n",
      "58.14      1\n",
      "51.34      1\n",
      "Name: temperature, Length: 2599, dtype: int64\n",
      "is_start_of_semester\n",
      "0    57282\n",
      "1     4902\n",
      "Name: is_start_of_semester, dtype: int64\n",
      "is_during_semester\n",
      "1    41055\n",
      "0    21129\n",
      "Name: is_during_semester, dtype: int64\n",
      "month\n",
      "12    7477\n",
      "10    7264\n",
      "11    7110\n",
      "9     6914\n",
      "8     6089\n",
      "7     4447\n",
      "3     4333\n",
      "5     4230\n",
      "1     4046\n",
      "6     3940\n",
      "2     3587\n",
      "4     2747\n",
      "Name: month, dtype: int64\n",
      "hour\n",
      "0     2978\n",
      "17    2911\n",
      "23    2870\n",
      "18    2837\n",
      "19    2819\n",
      "13    2812\n",
      "16    2808\n",
      "12    2805\n",
      "9     2799\n",
      "8     2798\n",
      "10    2796\n",
      "20    2795\n",
      "11    2791\n",
      "7     2791\n",
      "14    2787\n",
      "21    2779\n",
      "15    2778\n",
      "22    2775\n",
      "6     2758\n",
      "5     2441\n",
      "1     1782\n",
      "2     1520\n",
      "3     1517\n",
      "4     1437\n",
      "Name: hour, dtype: int64\n"
     ]
    }
   ],
   "source": [
    "for col in data.columns:\n",
    "    print(col)\n",
    "    print(data[col].value_counts())"
   ]
  },
  {
   "cell_type": "markdown",
   "id": "2a2219d2",
   "metadata": {},
   "source": [
    "## DATA VISUALIZATION"
   ]
  },
  {
   "cell_type": "code",
   "execution_count": 98,
   "id": "096b715c",
   "metadata": {
    "scrolled": false
   },
   "outputs": [
    {
     "data": {
      "text/plain": [
       "Text(0.5, 1.0, 'Correlation between different fearures')"
      ]
     },
     "execution_count": 98,
     "metadata": {},
     "output_type": "execute_result"
    },
    {
     "data": {
      "image/png": "[encoded data removed]",
      "text/plain": [
       "<Figure size 720x720 with 2 Axes>"
      ]
     },
     "metadata": {
      "needs_background": "light"
     },
     "output_type": "display_data"
    }
   ],
   "source": [
    "correlation = data.corr()\n",
    "plt.figure(figsize=(10,10))\n",
    "sns.heatmap(correlation, vmax=1, square=True,annot=True,cmap='viridis')\n",
    "plt.title('Correlation between different fearures')"
   ]
  },
  {
   "cell_type": "markdown",
   "id": "7f073dd9",
   "metadata": {},
   "source": [
    "## SPLITING X AND Y "
   ]
  },
  {
   "cell_type": "code",
   "execution_count": 99,
   "id": "e45d8ff9",
   "metadata": {},
   "outputs": [],
   "source": [
    "X = data.iloc[ : , 2:8]\n",
    "y = data.iloc[ : , :0]"
   ]
  },
  {
   "cell_type": "markdown",
   "id": "787bfa2f",
   "metadata": {},
   "source": [
    "## STANDARD SCALER"
   ]
  },
  {
   "cell_type": "code",
   "execution_count": 100,
   "id": "9bc72ed3",
   "metadata": {
    "scrolled": true
   },
   "outputs": [
    {
     "data": {
      "text/plain": [
       "array([[ 0.63654993,  0.50956119, -0.6280507 , -0.05079022,  2.09027384,\n",
       "        -0.29253482],\n",
       "       [ 0.68623792,  0.50956119, -0.6280507 , -0.05079022,  2.09027384,\n",
       "        -0.29253482],\n",
       "       [ 0.71106127,  0.50956119, -0.6280507 , -0.05079022,  2.09027384,\n",
       "        -0.29253482],\n",
       "       ...,\n",
       "       [ 0.94008862,  1.01036016,  1.59222814, -0.05079022, -0.292433  ,\n",
       "        -0.29253482],\n",
       "       [ 0.96515979,  1.01036016,  1.59222814, -0.05079022, -0.292433  ,\n",
       "        -0.29253482],\n",
       "       [ 0.99010704,  1.01036016,  1.59222814, -0.05079022, -0.292433  ,\n",
       "        -0.29253482]])"
      ]
     },
     "execution_count": 100,
     "metadata": {},
     "output_type": "execute_result"
    }
   ],
   "source": [
    "from sklearn.preprocessing import StandardScaler\n",
    "scaler = StandardScaler()\n",
    "X =scaler.fit_transform(X)\n",
    "X"
   ]
  },
  {
   "cell_type": "markdown",
   "id": "be434143",
   "metadata": {},
   "source": [
    "## PCA "
   ]
  },
  {
   "cell_type": "code",
   "execution_count": 101,
   "id": "12511203",
   "metadata": {
    "scrolled": true
   },
   "outputs": [
    {
     "data": {
      "text/plain": [
       "array([[-0.01221225, -1.74827045,  0.50960639, -0.41110148,  1.15793497,\n",
       "         0.83101258],\n",
       "       [-0.01252094, -1.77681605,  0.53746942, -0.41502514,  1.12857183,\n",
       "         0.83090197],\n",
       "       [-0.01267515, -1.79107699,  0.55138936, -0.41698533,  1.11390247,\n",
       "         0.8308467 ],\n",
       "       ...,\n",
       "       [-1.83407039, -0.15801062,  0.73716585, -0.15999954, -0.69546787,\n",
       "        -0.41471388],\n",
       "       [-1.83422615, -0.17241393,  0.75122475, -0.16197931, -0.71028368,\n",
       "        -0.41476969],\n",
       "       [-1.83438114, -0.18674606,  0.76521417, -0.16394929, -0.72502627,\n",
       "        -0.41482523]])"
      ]
     },
     "execution_count": 101,
     "metadata": {},
     "output_type": "execute_result"
    }
   ],
   "source": [
    "from sklearn.decomposition import PCA\n",
    "pca = PCA()\n",
    "pca.fit_transform(X)"
   ]
  },
  {
   "cell_type": "code",
   "execution_count": 102,
   "id": "1d75e1c1",
   "metadata": {},
   "outputs": [
    {
     "data": {
      "text/plain": [
       "array([[ 1.00001608e+00, -1.79321968e-03, -5.08815704e-04,\n",
       "         2.85078360e-03,  1.84852463e-01,  9.55105884e-03],\n",
       "       [-1.79321968e-03,  1.00001608e+00,  7.91350923e-01,\n",
       "        -7.58632581e-02,  1.11689106e-02, -1.17822146e-02],\n",
       "       [-5.08815704e-04,  7.91350923e-01,  1.00001608e+00,\n",
       "        -3.18993471e-02,  2.06736733e-02, -1.66460432e-02],\n",
       "       [ 2.85078360e-03, -7.58632581e-02, -3.18993471e-02,\n",
       "         1.00001608e+00, -8.85280154e-02, -1.48581472e-02],\n",
       "       [ 1.84852463e-01,  1.11689106e-02,  2.06736733e-02,\n",
       "        -8.85280154e-02,  1.00001608e+00,  9.32433629e-02],\n",
       "       [ 9.55105884e-03, -1.17822146e-02, -1.66460432e-02,\n",
       "        -1.48581472e-02,  9.32433629e-02,  1.00001608e+00]])"
      ]
     },
     "execution_count": 102,
     "metadata": {},
     "output_type": "execute_result"
    }
   ],
   "source": [
    "pca.get_covariance()"
   ]
  },
  {
   "cell_type": "code",
   "execution_count": 103,
   "id": "80a569cc",
   "metadata": {},
   "outputs": [
    {
     "data": {
      "text/plain": [
       "array([0.30002086, 0.20478764, 0.16750837, 0.16320645, 0.1299299 ,\n",
       "       0.03454679])"
      ]
     },
     "execution_count": 103,
     "metadata": {},
     "output_type": "execute_result"
    }
   ],
   "source": [
    "explained_variance=pca.explained_variance_ratio_\n",
    "explained_variance"
   ]
  },
  {
   "cell_type": "code",
   "execution_count": 104,
   "id": "28164b55",
   "metadata": {},
   "outputs": [
    {
     "data": {
      "image/png": "[encoded data removed]",
      "text/plain": [
       "<Figure size 504x504 with 1 Axes>"
      ]
     },
     "metadata": {},
     "output_type": "display_data"
    }
   ],
   "source": [
    "with plt.style.context('dark_background'):\n",
    "    plt.figure(figsize=(7, 7))\n",
    "\n",
    "    plt.bar(range(6), explained_variance, alpha=0.5, align='center',\n",
    "            label='individual explained variance')\n",
    "    plt.ylabel('Explained variance ratio')\n",
    "    plt.xlabel('Principal components')\n",
    "    plt.legend(loc='best')\n",
    "    plt.tight_layout()"
   ]
  },
  {
   "cell_type": "code",
   "execution_count": 105,
   "id": "8bdd8833",
   "metadata": {},
   "outputs": [
    {
     "data": {
      "text/plain": [
       "array([[-0.01221225, -1.74827045,  0.50960639, -0.41110148,  1.15793497],\n",
       "       [-0.01252094, -1.77681605,  0.53746942, -0.41502514,  1.12857183],\n",
       "       [-0.01267515, -1.79107699,  0.55138936, -0.41698533,  1.11390247],\n",
       "       ...,\n",
       "       [-1.83407039, -0.15801062,  0.73716585, -0.15999954, -0.69546787],\n",
       "       [-1.83422615, -0.17241393,  0.75122475, -0.16197931, -0.71028368],\n",
       "       [-1.83438114, -0.18674606,  0.76521417, -0.16394929, -0.72502627]])"
      ]
     },
     "execution_count": 105,
     "metadata": {},
     "output_type": "execute_result"
    }
   ],
   "source": [
    "pca=PCA(n_components=5)\n",
    "X_new=pca.fit_transform(X)\n",
    "X_new"
   ]
  },
  {
   "cell_type": "code",
   "execution_count": 106,
   "id": "12771321",
   "metadata": {},
   "outputs": [
    {
     "data": {
      "text/plain": [
       "array([[ 1.00001608e+00, -1.79321968e-03, -5.08815704e-04,\n",
       "         2.85078360e-03,  1.84852463e-01,  9.55105884e-03],\n",
       "       [-1.79321968e-03,  1.00001608e+00,  7.91350923e-01,\n",
       "        -7.58632581e-02,  1.11689106e-02, -1.17822146e-02],\n",
       "       [-5.08815704e-04,  7.91350923e-01,  1.00001608e+00,\n",
       "        -3.18993471e-02,  2.06736733e-02, -1.66460432e-02],\n",
       "       [ 2.85078360e-03, -7.58632581e-02, -3.18993471e-02,\n",
       "         1.00001608e+00, -8.85280154e-02, -1.48581472e-02],\n",
       "       [ 1.84852463e-01,  1.11689106e-02,  2.06736733e-02,\n",
       "        -8.85280154e-02,  1.00001608e+00,  9.32433629e-02],\n",
       "       [ 9.55105884e-03, -1.17822146e-02, -1.66460432e-02,\n",
       "        -1.48581472e-02,  9.32433629e-02,  1.00001608e+00]])"
      ]
     },
     "execution_count": 106,
     "metadata": {},
     "output_type": "execute_result"
    }
   ],
   "source": [
    "pca.get_covariance()"
   ]
  },
  {
   "cell_type": "code",
   "execution_count": 107,
   "id": "84fb1a48",
   "metadata": {},
   "outputs": [
    {
     "data": {
      "text/plain": [
       "array([0.30002086, 0.20478764, 0.16750837, 0.16320645, 0.1299299 ])"
      ]
     },
     "execution_count": 107,
     "metadata": {},
     "output_type": "execute_result"
    }
   ],
   "source": [
    "explained_variance=pca.explained_variance_ratio_\n",
    "explained_variance"
   ]
  },
  {
   "cell_type": "code",
   "execution_count": 108,
   "id": "09b5691c",
   "metadata": {},
   "outputs": [
    {
     "data": {
      "image/png": "[encoded data removed]",
      "text/plain": [
       "<Figure size 504x504 with 1 Axes>"
      ]
     },
     "metadata": {},
     "output_type": "display_data"
    }
   ],
   "source": [
    "with plt.style.context('dark_background'):\n",
    "    plt.figure(figsize=(7, 7))\n",
    "\n",
    "    plt.bar(range(5), explained_variance, alpha=0.5, align='center',\n",
    "            label='individual explained variance')\n",
    "    plt.ylabel('Explained variance ratio')\n",
    "    plt.xlabel('Principal components')\n",
    "    plt.legend(loc='best')\n",
    "    plt.tight_layout()"
   ]
  },
  {
   "cell_type": "code",
   "execution_count": 109,
   "id": "e7821151",
   "metadata": {},
   "outputs": [
    {
     "data": {
      "text/plain": [
       "(49747, 6)"
      ]
     },
     "execution_count": 109,
     "metadata": {},
     "output_type": "execute_result"
    }
   ],
   "source": [
    "from sklearn.model_selection import train_test_split\n",
    "X_train, X_test, y_train, y_test = train_test_split(X, y, test_size=0.2, random_state=1)\n",
    "X_train.shape"
   ]
  },
  {
   "cell_type": "code",
   "execution_count": 110,
   "id": "2a8e1646",
   "metadata": {},
   "outputs": [
    {
     "data": {
      "text/plain": [
       "array([[-0.10930689, -1.49363472, -0.6280507 , -0.05079022,  0.12869658,\n",
       "        -0.29253482],\n",
       "       [ 1.18472867, -0.99283574, -0.6280507 , -0.05079022,  0.34242776,\n",
       "        -0.29253482],\n",
       "       [-0.1397475 ,  1.01036016,  1.59222814, -0.05079022, -1.35475612,\n",
       "        -0.29253482],\n",
       "       ...,\n",
       "       [ 1.57839139, -0.99283574, -0.6280507 , -0.05079022,  0.62898585,\n",
       "        -0.29253482],\n",
       "       [ 1.28088299,  0.00876221, -0.6280507 , -0.05079022, -1.03020137,\n",
       "        -0.29253482],\n",
       "       [-0.74686619, -0.99283574, -0.6280507 , -0.05079022, -0.45708517,\n",
       "        -0.29253482]])"
      ]
     },
     "execution_count": 110,
     "metadata": {},
     "output_type": "execute_result"
    }
   ],
   "source": [
    "X_train"
   ]
  },
  {
   "cell_type": "markdown",
   "id": "09d3d97c",
   "metadata": {},
   "source": [
    "__Thus Principal Component Analysis is used to remove the redundant features from the datasets without losing much information.These features are low dimensional in nature.The first component has the highest variance followed by second, third and so on.PCA works best on data set having 3 or higher dimensions. Because, with higher dimensions, it becomes increasingly difficult to make interpretations from the resultant cloud of data.__"
   ]
  },
  {
   "cell_type": "markdown",
   "id": "3a409af7",
   "metadata": {},
   "source": [
    "## THE END !"
   ]
  }
 ],
 "metadata": {
  "kernelspec": {
   "display_name": "Python 3",
   "language": "python",
   "name": "python3"
  },
  "language_info": {
   "codemirror_mode": {
    "name": "ipython",
    "version": 3
   },
   "file_extension": ".py",
   "mimetype": "text/x-python",
   "name": "python",
   "nbconvert_exporter": "python",
   "pygments_lexer": "ipython3",
   "version": "3.8.8"
  }
 },
 "nbformat": 4,
 "nbformat_minor": 5
}
